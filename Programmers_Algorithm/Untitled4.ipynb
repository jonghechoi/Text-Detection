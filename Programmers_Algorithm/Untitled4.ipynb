{
 "cells": [
  {
   "cell_type": "markdown",
   "metadata": {},
   "source": [
    "# 해쉬 1번 (완주하지 못한 선수)"
   ]
  },
  {
   "cell_type": "code",
   "execution_count": 18,
   "metadata": {},
   "outputs": [
    {
     "name": "stdout",
     "output_type": "stream",
     "text": [
      "cia\n",
      "dog\n",
      "egg\n",
      "None\n"
     ]
    }
   ],
   "source": [
    "### 내 코드\n",
    "participant = ['alice', 'black', 'cia', 'cia', 'cia', 'dog', 'egg', 'friday']\n",
    "completion = ['alice', 'black', 'cia', 'cia', 'friday']\n",
    "\n",
    "import re\n",
    "def solution(participant, completion):\n",
    "    \n",
    "    part_hash = {}\n",
    "    num = 1\n",
    "    for i in participant:\n",
    "        if part_hash.get(i.lower()):\n",
    "            part_hash[i.lower() + str(num)] = True\n",
    "            num += 1\n",
    "        else:\n",
    "            part_hash[i.lower()] = True\n",
    "    \n",
    "    com_hash = {}\n",
    "    num = 1\n",
    "    for i in completion:    \n",
    "        if com_hash.get(i.lower()):\n",
    "            com_hash[i.lower() + str(num)] = True\n",
    "            num += 1\n",
    "        else:\n",
    "            com_hash[i.lower()] = True\n",
    "    \n",
    "    if len(com_hash) < len(part_hash) and (1 <= len(com_hash) and len(com_hash) <= 100000) and (1 <= len(part_hash) and len(part_hash) <= 100000):\n",
    "         for answer in part_hash.keys():\n",
    "            try:\n",
    "                if (1 <= len(answer) and len(answer) <= 20) and (com_hash[answer] == True):\n",
    "                    continue\n",
    "            except:\n",
    "                res = re.sub(\"[0-9]\", \"\", answer)\n",
    "                print(res)\n",
    "\n",
    "print( solution(participant, completion) ) "
   ]
  },
  {
   "cell_type": "code",
   "execution_count": 5,
   "metadata": {},
   "outputs": [
    {
     "name": "stdout",
     "output_type": "stream",
     "text": [
      "['cia', 'dog', 'egg']\n"
     ]
    }
   ],
   "source": [
    "### 다른 사람 코드\n",
    "import collections\n",
    "\n",
    "def solution(participant, completion):\n",
    "    answer = collections.Counter(participant) - collections.Counter(completion)\n",
    "    return list(answer.keys())\n",
    "\n",
    "print( solution(participant, completion) ) "
   ]
  },
  {
   "cell_type": "markdown",
   "metadata": {},
   "source": [
    "# 해쉬 2번 (전화번호부)"
   ]
  },
  {
   "cell_type": "code",
   "execution_count": 7,
   "metadata": {},
   "outputs": [
    {
     "name": "stdout",
     "output_type": "stream",
     "text": [
      "True\n"
     ]
    }
   ],
   "source": [
    "### 내 코드\n",
    "\n",
    "phone_book = [\"123\",\"456\",\"789\"]\n",
    "def solution(phone_book):\n",
    "    \n",
    "    phone_book.sort()\n",
    "\n",
    "    for idx, i in enumerate(phone_book):\n",
    "        if idx == len(phone_book)-1:\n",
    "            pass\n",
    "        else:\n",
    "            answer = phone_book[idx+1].startswith( phone_book[idx] )\n",
    "            if answer:\n",
    "                break\n",
    "    return not answer\n",
    "\n",
    "print(solution(phone_book))"
   ]
  },
  {
   "cell_type": "code",
   "execution_count": 11,
   "metadata": {},
   "outputs": [
    {
     "name": "stdout",
     "output_type": "stream",
     "text": [
      "True\n"
     ]
    }
   ],
   "source": [
    "### 다른 사람 코드 1\n",
    "\n",
    "phone_book = [\"123\",\"456\",\"789\"]\n",
    "def solution(phoneBook):\n",
    "    phoneBook = sorted(phoneBook)\n",
    "\n",
    "    for p1, p2 in zip(phoneBook, phoneBook[1:]):\n",
    "        if p2.startswith(p1):\n",
    "            return False\n",
    "    return True\n",
    "\n",
    "print(solution(phone_book))"
   ]
  },
  {
   "cell_type": "code",
   "execution_count": 12,
   "metadata": {},
   "outputs": [
    {
     "name": "stdout",
     "output_type": "stream",
     "text": [
      "True\n"
     ]
    }
   ],
   "source": [
    "### 다른 사람 코드 2\n",
    "\n",
    "phone_book = [\"123\",\"456\",\"789\"]\n",
    "import re\n",
    "\n",
    "def solution(phoneBook):\n",
    "\n",
    "    for b in phoneBook:\n",
    "        p = re.compile(\"^\"+b)\n",
    "        for b2 in phoneBook:\n",
    "            if b != b2 and p.match(b2):\n",
    "                return False\n",
    "    return True\n",
    "\n",
    "print(solution(phone_book))"
   ]
  },
  {
   "cell_type": "markdown",
   "metadata": {},
   "source": [
    "# 해쉬 3번 (스파이 옷입히기)"
   ]
  },
  {
   "cell_type": "code",
   "execution_count": null,
   "metadata": {},
   "outputs": [],
   "source": [
    "### 내 코드\n",
    "clothes = [['yellow_hat', 'headgear'], ['blue_sunglasses', 'eyewear'], ['green_turban', 'headgear']]\n",
    "clothes = [[\"crow_mask\", \"face\"], [\"blue_sunglasses\", \"face\"], [\"smoky_makeup\", \"face\"]]\n",
    "clothes = [['yellow_hat', 'headgear'], ['blue_sunglasses', 'eyewear'], ['green_turban', 'headgear'], [\"crow_mask\", \"face\"], [\"blue_sunglasses\", \"face\"], [\"smoky_makeup\", \"face\"]]\n",
    "\n",
    "import numpy as np\n",
    "from functools import reduce\n",
    "from itertools import combinations\n",
    "\n",
    "def solution(clothes): \n",
    "    k = np.array(clothes)\n",
    "    cloth_kind = np.unique(k[:,1])\n",
    "    \n",
    "    num_list = []\n",
    "    for i in cloth_kind:\n",
    "        num = 0\n",
    "        for j in clothes:\n",
    "            if i == j[1]:\n",
    "                num += 1\n",
    "        num_list.append(num)\n",
    "    \n",
    "    # 조합 함수(combinations) 이용해서 구하기 # https://potensj.tistory.com/110\n",
    "    # reduce 함수 - 입력 받은 2번째인자(iterable)를 지정한 함수(첫번째 인자)에 따라 계산 후 단일값 반환\n",
    "    total = 0\n",
    "    for i in range(1, len(num_list)+1):\n",
    "        numnum = list(combinations(num_list, i))\n",
    "        for j in numnum:\n",
    "            total += reduce( lambda x, y: x*y, list(j)) \n",
    "    \n",
    "    return total\n",
    "print( solution(clothes) )"
   ]
  },
  {
   "cell_type": "code",
   "execution_count": 14,
   "metadata": {},
   "outputs": [
    {
     "name": "stdout",
     "output_type": "stream",
     "text": [
      "23\n"
     ]
    }
   ],
   "source": [
    "# 다른 사람 코드\n",
    "# collections에 대해서 확실히 알고 가기!!!!    \n",
    "clothes = [['yellow_hat', 'headgear'], ['blue_sunglasses', 'eyewear'], ['green_turban', 'headgear'], [\"crow_mask\", \"face\"], [\"blue_sunglasses\", \"face\"], [\"smoky_makeup\", \"face\"]]\n",
    "\n",
    "from functools import reduce\n",
    "from collections import defaultdict\n",
    "\n",
    "def solution(clothes):\n",
    "    num_clothes_kind = defaultdict(int)\n",
    "    for name, kind in clothes:\n",
    "        num_clothes_kind[kind] += 1\n",
    "    \n",
    "    tmp = [ i+1 for i in num_clothes_kind.values() ]\n",
    "    \n",
    "    return reduce(lambda x,y: x*y, tmp) - 1\n",
    "\n",
    "print( solution(clothes) )"
   ]
  },
  {
   "cell_type": "markdown",
   "metadata": {},
   "source": [
    "# 해쉬 4번 베스트앨범"
   ]
  },
  {
   "cell_type": "code",
   "execution_count": 17,
   "metadata": {},
   "outputs": [
    {
     "name": "stdout",
     "output_type": "stream",
     "text": [
      "[4, 1, 3, 0]\n"
     ]
    }
   ],
   "source": [
    "### 내 코드\n",
    "from collections import defaultdict\n",
    "\n",
    "genres = [\"classic\", \"pop\", \"classic\", \"classic\", \"pop\"]\n",
    "plays = [500, 600, 150, 800, 2500]\n",
    "\n",
    "def solution(genres, plays):\n",
    "    \n",
    "    default_dict = defaultdict(list)\n",
    "\n",
    "    for idx, genre_play in enumerate(zip(genres, plays)):\n",
    "        default_dict[genre_play[0]].append(genre_play[1])\n",
    "    \n",
    "    sorted_default_list = sorted(default_dict.values(), key = sum, reverse = True)\n",
    "    \n",
    "    # 다른 사람의 코드를 보면 굳이 len()으로 2개를 구분지을 필요 없이 [:2] 슬라이싱 만으로 끝낸다..\n",
    "    res = []\n",
    "    for i in sorted_default_list:\n",
    "        if len(i) > 2:\n",
    "            length = len(i) - 2\n",
    "    \n",
    "            temp = []\n",
    "            for j in i:\n",
    "                temp.append(j)\n",
    "            temp.sort(reverse=True)\n",
    "            \n",
    "            for k in range(length):\n",
    "                temp.pop()\n",
    "            \n",
    "            res.append(temp)\n",
    "        else:\n",
    "            i.sort(reverse=True)\n",
    "            res.append(i)\n",
    "    \n",
    "    res2 = []\n",
    "    for i in res:\n",
    "        if sum(i)/2 == i[0]:\n",
    "            for idx, j in enumerate(plays):\n",
    "                if j == i[0]:\n",
    "                    res2.append(idx)\n",
    "        else:\n",
    "            res2.append(plays.index(i[0]))\n",
    "            res2.append(plays.index(i[1]))\n",
    "\n",
    "    return res2\n",
    "\n",
    "print(solution(genres, plays))"
   ]
  },
  {
   "cell_type": "code",
   "execution_count": 16,
   "metadata": {},
   "outputs": [
    {
     "name": "stdout",
     "output_type": "stream",
     "text": [
      "[4, 1, 3, 0]\n"
     ]
    }
   ],
   "source": [
    "### 다른 사람 코드\n",
    "\n",
    "def solution(genres, plays):\n",
    "    answer = []\n",
    "    # { 장르 : 총 재생 횟수 } 사전\n",
    "    playsDict = {}\n",
    "    # { 장르 : [ ( 플레이 횟수, 고유 번호 ) ] }\n",
    "    d = { }\n",
    "\n",
    "    # 사전들 초기화\n",
    "    for i in range(len(genres)):\n",
    "        genre = genres[i]\n",
    "        play = plays[i]\n",
    "        playsDict[genre] = playsDict.get(genre, 0) + play\n",
    "        d[genre] = d.get(genre, []) + [ (play, i) ]\n",
    "        \n",
    "    # 재생 횟수 내림차순으로 장르별로 정렬\n",
    "    genreSort = sorted(playsDict.items(), key=lambda x: x[1], reverse=True)\n",
    "    \n",
    "    # 재생 횟수 내림차순, 인덱스 오름차순 정렬\n",
    "    # 장르별로 최대 2개 선택\n",
    "    for (genre, totalPlay) in genreSort:\n",
    "        d[genre] = sorted(d[genre], key=lambda x: (-x[0], x[1]))\n",
    "        answer += [ idx for (play, idx) in d[genre][:2] ]\n",
    "    \n",
    "    return answer\n",
    "\n",
    "\n",
    "# test를 위한 메인 함수입니다.\n",
    "if __name__ == '__main__':\n",
    "   genres = [\"classic\", \"pop\", \"classic\", \"classic\", \"pop\"]\t\n",
    "   plays = [500, 600, 150, 800, 2500]\n",
    "   result = solution(genres, plays)\n",
    "   print(result)"
   ]
  },
  {
   "cell_type": "code",
   "execution_count": null,
   "metadata": {},
   "outputs": [],
   "source": []
  }
 ],
 "metadata": {
  "kernelspec": {
   "display_name": "Python 3",
   "language": "python",
   "name": "python3"
  },
  "language_info": {
   "codemirror_mode": {
    "name": "ipython",
    "version": 3
   },
   "file_extension": ".py",
   "mimetype": "text/x-python",
   "name": "python",
   "nbconvert_exporter": "python",
   "pygments_lexer": "ipython3",
   "version": "3.7.4"
  }
 },
 "nbformat": 4,
 "nbformat_minor": 2
}
