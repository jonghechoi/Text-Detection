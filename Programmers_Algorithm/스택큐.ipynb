{
 "cells": [
  {
   "cell_type": "markdown",
   "metadata": {},
   "source": [
    "# 스택/큐 1번 (탑)"
   ]
  },
  {
   "cell_type": "code",
   "execution_count": 21,
   "metadata": {},
   "outputs": [
    {
     "name": "stdout",
     "output_type": "stream",
     "text": [
      "[0, 0, 2, 0, 0, 5, 6]\n"
     ]
    }
   ],
   "source": [
    "### 내 코드\n",
    "\n",
    "#heights = [6,9,5,7,4]\n",
    "#heights = [3,9,9,3,5,7,2]\n",
    "heights = [1,5,3,6,7,6,5]\n",
    "\n",
    "\n",
    "\n",
    "import numpy as np\n",
    "\n",
    "def solution(heights):\n",
    "    length = len(heights)\n",
    "\n",
    "    res = []\n",
    "    for _ in range(0, length+1):\n",
    "        num_of_comparision = heights.pop()\n",
    "        np_heights = np.array(heights)\n",
    "        xx = np_heights[np_heights > num_of_comparision]\n",
    "        \n",
    "        temp = []\n",
    "        if len(xx) == 0:\n",
    "            temp.append(0)\n",
    "        else:\n",
    "            for idx, i in enumerate(heights):\n",
    "                if i == xx[-1]:\n",
    "                    temp.append(idx+1)\n",
    "        real = max(temp)\n",
    "        \n",
    "        if len(heights) == 0:\n",
    "            res.append(0)\n",
    "            break\n",
    "        \n",
    "        res.append(real)\n",
    "    res.reverse()\n",
    "\n",
    "    return res\n",
    "\n",
    "print(solution(heights))"
   ]
  },
  {
   "cell_type": "code",
   "execution_count": 22,
   "metadata": {},
   "outputs": [
    {
     "name": "stdout",
     "output_type": "stream",
     "text": [
      "[0, 0, 2, 0, 0, 5, 6]\n"
     ]
    }
   ],
   "source": [
    "### 다른 사람 코드\n",
    "\n",
    "#heights = [6,9,5,7,4]\n",
    "#heights = [3,9,9,3,5,7,2]\n",
    "heights = [1,5,3,6,7,6,5]\n",
    "\n",
    "def solution(h):\n",
    "    ans = [0] * len(h)\n",
    "    for i in range(len(h)-1, 0, -1):\n",
    "        for j in range(i-1, -1, -1):\n",
    "            if h[i] < h[j]:\n",
    "                ans[i] = j+1\n",
    "                break\n",
    "    return ans\n",
    "\n",
    "print(solution(heights))"
   ]
  },
  {
   "cell_type": "markdown",
   "metadata": {},
   "source": [
    "# 스택/큐 2번 (다리를 지나는 트럭)"
   ]
  },
  {
   "cell_type": "code",
   "execution_count": 23,
   "metadata": {},
   "outputs": [
    {
     "name": "stdout",
     "output_type": "stream",
     "text": [
      "110\n"
     ]
    }
   ],
   "source": [
    "### 내 코드\n",
    "\n",
    "def solution(bridge_length, weight, truck_weights):\n",
    "    \n",
    "    distance = [0] * len(truck_weights)\n",
    "    \n",
    "    num = 1\n",
    "    list = []\n",
    "    for idx, i in enumerate(truck_weights):\n",
    "        \n",
    "        \n",
    "        list.append(idx)\n",
    "    \n",
    "    \n",
    "        while True:\n",
    "            num += 1\n",
    "            \n",
    "            for j in list:\n",
    "                distance[j] += 1\n",
    "                \n",
    "            if idx+1 == len(truck_weights):\n",
    "                if bridge_length in distance:\n",
    "                    del list[0]\n",
    "                    \n",
    "                    distance[distance.index(bridge_length)] = None\n",
    "    \n",
    "                    if distance.count(None) == len(truck_weights):\n",
    "                        break\n",
    "                else:\n",
    "                    continue\n",
    "            else:\n",
    "                temp = 0\n",
    "                for k in list:\n",
    "                    temp += truck_weights[k]\n",
    "    \n",
    "                if temp + truck_weights[idx+1] <= weight:\n",
    "                    break\n",
    "                else:\n",
    "                    if bridge_length in distance:\n",
    "                        del list[0]\n",
    "    \n",
    "                        distance[distance.index(bridge_length)] = None\n",
    "                        \n",
    "                        temp = 0\n",
    "                        for k in list:\n",
    "                            temp += truck_weights[k]\n",
    "                        \n",
    "                        if temp + truck_weights[idx+1] > weight:\n",
    "                            continue\n",
    "                        else:\n",
    "                            break \n",
    "                    else:\n",
    "                        continue\n",
    "    answer = num\n",
    "    return answer\n",
    "\n",
    "\n",
    "\n",
    "print(solution(bridge_length = 100, weight = 100, truck_weights = [10,10,10,10,10,10,10,10,10,10]))"
   ]
  },
  {
   "cell_type": "code",
   "execution_count": 24,
   "metadata": {},
   "outputs": [
    {
     "name": "stdout",
     "output_type": "stream",
     "text": [
      "110\n"
     ]
    }
   ],
   "source": [
    "### 다른 사람 코드 (출처: https://mentha2.tistory.com/16 [행궁동 데이터과학자])\n",
    "\n",
    "def solution(bridge_length, weight, truck_weights):\n",
    "    q=[0]*bridge_length\n",
    "    sec=0\n",
    "    while q:\n",
    "        sec+=1\n",
    "        q.pop(0)\n",
    "        if truck_weights:\n",
    "            if sum(q)+truck_weights[0]<=weight:\n",
    "                q.append(truck_weights.pop(0))\n",
    "            else:\n",
    "                q.append(0)\n",
    "    return sec\n",
    "\n",
    "print(solution(bridge_length = 100, weight = 100, truck_weights = [10,10,10,10,10,10,10,10,10,10]))"
   ]
  },
  {
   "cell_type": "markdown",
   "metadata": {},
   "source": [
    "# 스택/큐 4번 (프린터)"
   ]
  },
  {
   "cell_type": "code",
   "execution_count": 25,
   "metadata": {},
   "outputs": [
    {
     "name": "stdout",
     "output_type": "stream",
     "text": [
      "1\n"
     ]
    }
   ],
   "source": [
    "### 내 코드\n",
    "\n",
    "def solution(priorities, location):\n",
    "\n",
    "    a = priorities\n",
    "    idx_list = [i for i in range(len(a))]\n",
    "    \n",
    "    num = 0\n",
    "    while idx_list:\n",
    "        idx = idx_list[0]\n",
    "        \n",
    "        if a[idx_list.index(idx)] == max(a):\n",
    "            a.pop(0)\n",
    "            idx_list.pop(0)\n",
    "            num += 1\n",
    "            if idx == location:\n",
    "                break\n",
    "        else:\n",
    "            idx_list.pop(0)\n",
    "            idx_list.append(idx)\n",
    "            a_temp = a.pop(0)\n",
    "            a.append(a_temp)\n",
    "\n",
    "    return num\n",
    "    \n",
    "print(solution([2, 1, 3, 2],2))"
   ]
  },
  {
   "cell_type": "code",
   "execution_count": 26,
   "metadata": {},
   "outputs": [
    {
     "name": "stdout",
     "output_type": "stream",
     "text": [
      "1\n"
     ]
    }
   ],
   "source": [
    "### 다른 사람 코드\n",
    "\n",
    "def solution(p, l):\n",
    "    ans = 0\n",
    "    m = max(p)\n",
    "    while True:\n",
    "        v = p.pop(0)\n",
    "        if m == v:\n",
    "            ans += 1\n",
    "            if l == 0:\n",
    "                break\n",
    "            else:\n",
    "                l -= 1\n",
    "            m = max(p)\n",
    "        else:\n",
    "            p.append(v)\n",
    "            if l == 0:\n",
    "                l = len(p)-1\n",
    "            else:\n",
    "                l -= 1\n",
    "    return ans\n",
    "\n",
    "print(solution([2, 1, 3, 2],2))"
   ]
  },
  {
   "cell_type": "markdown",
   "metadata": {},
   "source": [
    "# 스택/큐 4번 (쇠막대기)"
   ]
  },
  {
   "cell_type": "code",
   "execution_count": 29,
   "metadata": {},
   "outputs": [
    {
     "name": "stdout",
     "output_type": "stream",
     "text": [
      "17\n"
     ]
    }
   ],
   "source": [
    "### 내 코드\n",
    "\n",
    "def solution(arrangement):\n",
    "    arrange = list(arrangement)\n",
    "    \n",
    "    total = 0\n",
    "    a = []\n",
    "    for idx, i in enumerate(arrange):\n",
    "        \n",
    "        if idx + 1 == len(arrange):\n",
    "            total += a.pop()+1\n",
    "            break\n",
    "        \n",
    "        if i == '(':\n",
    "            a.append(0)\n",
    "        else:\n",
    "            \n",
    "            if arrange[idx-1] == ')':\n",
    "                temp = a.pop()+1\n",
    "                total += temp\n",
    "            else:\n",
    "                a.pop()\n",
    "                for i in range(len(a)):\n",
    "                    a[i] += 1\n",
    "            \n",
    "    return total\n",
    "\n",
    "print(solution(\"()(((()())(())()))(())\"))"
   ]
  },
  {
   "cell_type": "code",
   "execution_count": 27,
   "metadata": {},
   "outputs": [
    {
     "name": "stdout",
     "output_type": "stream",
     "text": [
      "17\n"
     ]
    }
   ],
   "source": [
    "### 다른 사람 코드 1\n",
    "\n",
    "def solution(arrangement):\n",
    "    answer = 0\n",
    "    stack = 0\n",
    "    laseron = False\n",
    "    for p in arrangement:\n",
    "        if p == '(':\n",
    "            laseron = True\n",
    "            stack += 1\n",
    "        else:\n",
    "            if laseron==True:\n",
    "                answer += stack-1\n",
    "                laseron=False\n",
    "            else:\n",
    "                answer += 1\n",
    "            stack -= 1\n",
    "\n",
    "    return answer\n",
    "\n",
    "print(solution(\"()(((()())(())()))(())\"))"
   ]
  },
  {
   "cell_type": "code",
   "execution_count": 28,
   "metadata": {},
   "outputs": [
    {
     "name": "stdout",
     "output_type": "stream",
     "text": [
      "17\n"
     ]
    }
   ],
   "source": [
    "### 다른 사람 코드 2\n",
    "\n",
    "def solution(arrangement):\n",
    "    onLaser = 0\n",
    "    total = 0\n",
    "\n",
    "    for i in range(len(arrangement) - 1):\n",
    "        if arrangement[i:i+2] == '((':\n",
    "            onLaser += 1\n",
    "        elif arrangement[i:i+2] == '))':\n",
    "            onLaser -= 1\n",
    "            total += 1\n",
    "        elif arrangement[i:i+2] == '()':\n",
    "            total += onLaser\n",
    "\n",
    "    return total\n",
    "\n",
    "print(solution(\"()(((()())(())()))(())\"))"
   ]
  },
  {
   "cell_type": "code",
   "execution_count": null,
   "metadata": {},
   "outputs": [],
   "source": []
  }
 ],
 "metadata": {
  "kernelspec": {
   "display_name": "Python 3",
   "language": "python",
   "name": "python3"
  },
  "language_info": {
   "codemirror_mode": {
    "name": "ipython",
    "version": 3
   },
   "file_extension": ".py",
   "mimetype": "text/x-python",
   "name": "python",
   "nbconvert_exporter": "python",
   "pygments_lexer": "ipython3",
   "version": "3.7.4"
  }
 },
 "nbformat": 4,
 "nbformat_minor": 2
}
